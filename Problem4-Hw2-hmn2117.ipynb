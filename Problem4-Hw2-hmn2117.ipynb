{
 "cells": [
  {
   "cell_type": "code",
   "execution_count": 29,
   "metadata": {},
   "outputs": [],
   "source": [
    "L= [[60,120],[150,90],[270,300],[300,240]]; O= [[30,30],[330,330]];Meow=[180,180]"
   ]
  },
  {
   "cell_type": "code",
   "execution_count": 30,
   "metadata": {},
   "outputs": [],
   "source": [
    "import numpy as np\n",
    "import matplotlib.pyplot as plt\n",
    "P=np.array(L);O=np.array(O)\n",
    "g=[]\n",
    "def distance(a,b):\n",
    "    q1 = min(abs(a[0]-b[0]),(360-abs(a[0]-b[0]))) \n",
    "    q2 = min(abs(a[1]-b[1]),(360-abs(a[1]-b[1])))\n",
    "    d= q1+q2\n",
    "    return d\n"
   ]
  },
  {
   "cell_type": "code",
   "execution_count": 27,
   "metadata": {},
   "outputs": [
    {
     "name": "stdout",
     "output_type": "stream",
     "text": [
      "[180, 120, 210, 180]\n"
     ]
    }
   ],
   "source": [
    "#an Array of the distances from point [180,180] to all the other points in the array.\n",
    "for i in L:\n",
    "    g.append(distance(i,Meow))\n",
    "print(g)"
   ]
  },
  {
   "cell_type": "code",
   "execution_count": 32,
   "metadata": {},
   "outputs": [
    {
     "data": {
      "text/plain": [
       "(0.0, 360.0)"
      ]
     },
     "execution_count": 32,
     "metadata": {},
     "output_type": "execute_result"
    },
    {
     "data": {
      "image/png": "[encoded data removed]",
      "text/plain": [
       "<Figure size 432x288 with 1 Axes>"
      ]
     },
     "metadata": {
      "needs_background": "light"
     },
     "output_type": "display_data"
    }
   ],
   "source": [
    "#d= distance(L[2],L[3])\n",
    "plt.scatter(P[:,0],P[:,1]);plt.scatter(O[:,0],O[:,1]);plt.scatter(180,180);plt.xlim([0, 360]);plt.ylim([0,360])"
   ]
  }
 ],
 "metadata": {
  "kernelspec": {
   "display_name": "Python 3",
   "language": "python",
   "name": "python3"
  },
  "language_info": {
   "codemirror_mode": {
    "name": "ipython",
    "version": 3
   },
   "file_extension": ".py",
   "mimetype": "text/x-python",
   "name": "python",
   "nbconvert_exporter": "python",
   "pygments_lexer": "ipython3",
   "version": "3.8.3"
  }
 },
 "nbformat": 4,
 "nbformat_minor": 4
}
